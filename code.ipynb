{
 "cells": [
  {
   "cell_type": "code",
   "execution_count": 1,
   "id": "8ece187f",
   "metadata": {},
   "outputs": [
    {
     "name": "stderr",
     "output_type": "stream",
     "text": [
      "c:\\Users\\HP\\anaconda3\\envs\\groqbot2\\lib\\site-packages\\tqdm\\auto.py:21: TqdmWarning: IProgress not found. Please update jupyter and ipywidgets. See https://ipywidgets.readthedocs.io/en/stable/user_install.html\n",
      "  from .autonotebook import tqdm as notebook_tqdm\n"
     ]
    }
   ],
   "source": [
    "import os\n",
    "from langchain_community.document_loaders import DirectoryLoader, PyPDFLoader\n",
    "from langchain_text_splitters import RecursiveCharacterTextSplitter\n",
    "from langchain_community.embeddings import HuggingFaceEmbeddings\n",
    "from langchain_community.vectorstores import FAISS\n",
    "from langchain_groq import ChatGroq\n",
    "from langchain_core.prompts import ChatPromptTemplate\n",
    "from dotenv import load_dotenv\n",
    "from langchain_core.runnables import RunnablePassthrough,RunnableMap\n"
   ]
  },
  {
   "cell_type": "markdown",
   "id": "6f8084af",
   "metadata": {},
   "source": []
  },
  {
   "cell_type": "code",
   "execution_count": 2,
   "id": "0a75dbf6",
   "metadata": {},
   "outputs": [
    {
     "name": "stdout",
     "output_type": "stream",
     "text": [
      "Requirement already satisfied: langchain-groq in c:\\users\\hp\\anaconda3\\envs\\groqbot2\\lib\\site-packages (1.0.0)\n",
      "Requirement already satisfied: langchain-community in c:\\users\\hp\\anaconda3\\envs\\groqbot2\\lib\\site-packages (0.4.1)\n",
      "Requirement already satisfied: faiss-cpu in c:\\users\\hp\\anaconda3\\envs\\groqbot2\\lib\\site-packages (1.12.0)\n",
      "Requirement already satisfied: groq<1.0.0,>=0.30.0 in c:\\users\\hp\\anaconda3\\envs\\groqbot2\\lib\\site-packages (from langchain-groq) (0.33.0)\n",
      "Requirement already satisfied: langchain-core<2.0.0,>=1.0.0 in c:\\users\\hp\\anaconda3\\envs\\groqbot2\\lib\\site-packages (from langchain-groq) (1.0.2)\n",
      "Requirement already satisfied: anyio<5,>=3.5.0 in c:\\users\\hp\\anaconda3\\envs\\groqbot2\\lib\\site-packages (from groq<1.0.0,>=0.30.0->langchain-groq) (4.11.0)\n",
      "Requirement already satisfied: distro<2,>=1.7.0 in c:\\users\\hp\\anaconda3\\envs\\groqbot2\\lib\\site-packages (from groq<1.0.0,>=0.30.0->langchain-groq) (1.9.0)\n",
      "Requirement already satisfied: httpx<1,>=0.23.0 in c:\\users\\hp\\anaconda3\\envs\\groqbot2\\lib\\site-packages (from groq<1.0.0,>=0.30.0->langchain-groq) (0.28.1)\n",
      "Requirement already satisfied: pydantic<3,>=1.9.0 in c:\\users\\hp\\anaconda3\\envs\\groqbot2\\lib\\site-packages (from groq<1.0.0,>=0.30.0->langchain-groq) (2.12.3)\n",
      "Requirement already satisfied: sniffio in c:\\users\\hp\\anaconda3\\envs\\groqbot2\\lib\\site-packages (from groq<1.0.0,>=0.30.0->langchain-groq) (1.3.1)\n",
      "Requirement already satisfied: typing-extensions<5,>=4.10 in c:\\users\\hp\\anaconda3\\envs\\groqbot2\\lib\\site-packages (from groq<1.0.0,>=0.30.0->langchain-groq) (4.15.0)\n",
      "Requirement already satisfied: exceptiongroup>=1.0.2 in c:\\users\\hp\\anaconda3\\envs\\groqbot2\\lib\\site-packages (from anyio<5,>=3.5.0->groq<1.0.0,>=0.30.0->langchain-groq) (1.3.0)\n",
      "Requirement already satisfied: idna>=2.8 in c:\\users\\hp\\anaconda3\\envs\\groqbot2\\lib\\site-packages (from anyio<5,>=3.5.0->groq<1.0.0,>=0.30.0->langchain-groq) (3.11)\n",
      "Requirement already satisfied: certifi in c:\\users\\hp\\anaconda3\\envs\\groqbot2\\lib\\site-packages (from httpx<1,>=0.23.0->groq<1.0.0,>=0.30.0->langchain-groq) (2025.10.5)\n",
      "Requirement already satisfied: httpcore==1.* in c:\\users\\hp\\anaconda3\\envs\\groqbot2\\lib\\site-packages (from httpx<1,>=0.23.0->groq<1.0.0,>=0.30.0->langchain-groq) (1.0.9)\n",
      "Requirement already satisfied: h11>=0.16 in c:\\users\\hp\\anaconda3\\envs\\groqbot2\\lib\\site-packages (from httpcore==1.*->httpx<1,>=0.23.0->groq<1.0.0,>=0.30.0->langchain-groq) (0.16.0)\n",
      "Requirement already satisfied: jsonpatch<2.0.0,>=1.33.0 in c:\\users\\hp\\anaconda3\\envs\\groqbot2\\lib\\site-packages (from langchain-core<2.0.0,>=1.0.0->langchain-groq) (1.33)\n",
      "Requirement already satisfied: langsmith<1.0.0,>=0.3.45 in c:\\users\\hp\\anaconda3\\envs\\groqbot2\\lib\\site-packages (from langchain-core<2.0.0,>=1.0.0->langchain-groq) (0.4.38)\n",
      "Requirement already satisfied: packaging<26.0.0,>=23.2.0 in c:\\users\\hp\\anaconda3\\envs\\groqbot2\\lib\\site-packages (from langchain-core<2.0.0,>=1.0.0->langchain-groq) (25.0)\n",
      "Requirement already satisfied: pyyaml<7.0.0,>=5.3.0 in c:\\users\\hp\\anaconda3\\envs\\groqbot2\\lib\\site-packages (from langchain-core<2.0.0,>=1.0.0->langchain-groq) (6.0.3)\n",
      "Requirement already satisfied: tenacity!=8.4.0,<10.0.0,>=8.1.0 in c:\\users\\hp\\anaconda3\\envs\\groqbot2\\lib\\site-packages (from langchain-core<2.0.0,>=1.0.0->langchain-groq) (9.1.2)\n",
      "Requirement already satisfied: jsonpointer>=1.9 in c:\\users\\hp\\anaconda3\\envs\\groqbot2\\lib\\site-packages (from jsonpatch<2.0.0,>=1.33.0->langchain-core<2.0.0,>=1.0.0->langchain-groq) (3.0.0)\n",
      "Requirement already satisfied: orjson>=3.9.14 in c:\\users\\hp\\anaconda3\\envs\\groqbot2\\lib\\site-packages (from langsmith<1.0.0,>=0.3.45->langchain-core<2.0.0,>=1.0.0->langchain-groq) (3.11.4)\n",
      "Requirement already satisfied: requests-toolbelt>=1.0.0 in c:\\users\\hp\\anaconda3\\envs\\groqbot2\\lib\\site-packages (from langsmith<1.0.0,>=0.3.45->langchain-core<2.0.0,>=1.0.0->langchain-groq) (1.0.0)\n",
      "Requirement already satisfied: requests>=2.0.0 in c:\\users\\hp\\anaconda3\\envs\\groqbot2\\lib\\site-packages (from langsmith<1.0.0,>=0.3.45->langchain-core<2.0.0,>=1.0.0->langchain-groq) (2.32.5)\n",
      "Requirement already satisfied: zstandard>=0.23.0 in c:\\users\\hp\\anaconda3\\envs\\groqbot2\\lib\\site-packages (from langsmith<1.0.0,>=0.3.45->langchain-core<2.0.0,>=1.0.0->langchain-groq) (0.25.0)\n",
      "Requirement already satisfied: annotated-types>=0.6.0 in c:\\users\\hp\\anaconda3\\envs\\groqbot2\\lib\\site-packages (from pydantic<3,>=1.9.0->groq<1.0.0,>=0.30.0->langchain-groq) (0.7.0)\n",
      "Requirement already satisfied: pydantic-core==2.41.4 in c:\\users\\hp\\anaconda3\\envs\\groqbot2\\lib\\site-packages (from pydantic<3,>=1.9.0->groq<1.0.0,>=0.30.0->langchain-groq) (2.41.4)\n",
      "Requirement already satisfied: typing-inspection>=0.4.2 in c:\\users\\hp\\anaconda3\\envs\\groqbot2\\lib\\site-packages (from pydantic<3,>=1.9.0->groq<1.0.0,>=0.30.0->langchain-groq) (0.4.2)\n",
      "Requirement already satisfied: langchain-classic<2.0.0,>=1.0.0 in c:\\users\\hp\\anaconda3\\envs\\groqbot2\\lib\\site-packages (from langchain-community) (1.0.0)\n",
      "Requirement already satisfied: SQLAlchemy<3.0.0,>=1.4.0 in c:\\users\\hp\\anaconda3\\envs\\groqbot2\\lib\\site-packages (from langchain-community) (2.0.44)\n",
      "Requirement already satisfied: aiohttp<4.0.0,>=3.8.3 in c:\\users\\hp\\anaconda3\\envs\\groqbot2\\lib\\site-packages (from langchain-community) (3.13.2)\n",
      "Requirement already satisfied: dataclasses-json<0.7.0,>=0.6.7 in c:\\users\\hp\\anaconda3\\envs\\groqbot2\\lib\\site-packages (from langchain-community) (0.6.7)\n",
      "Requirement already satisfied: pydantic-settings<3.0.0,>=2.10.1 in c:\\users\\hp\\anaconda3\\envs\\groqbot2\\lib\\site-packages (from langchain-community) (2.11.0)\n",
      "Requirement already satisfied: httpx-sse<1.0.0,>=0.4.0 in c:\\users\\hp\\anaconda3\\envs\\groqbot2\\lib\\site-packages (from langchain-community) (0.4.3)\n",
      "Requirement already satisfied: numpy>=1.26.2 in c:\\users\\hp\\anaconda3\\envs\\groqbot2\\lib\\site-packages (from langchain-community) (2.2.6)\n",
      "Requirement already satisfied: aiohappyeyeballs>=2.5.0 in c:\\users\\hp\\anaconda3\\envs\\groqbot2\\lib\\site-packages (from aiohttp<4.0.0,>=3.8.3->langchain-community) (2.6.1)\n",
      "Requirement already satisfied: aiosignal>=1.4.0 in c:\\users\\hp\\anaconda3\\envs\\groqbot2\\lib\\site-packages (from aiohttp<4.0.0,>=3.8.3->langchain-community) (1.4.0)\n",
      "Requirement already satisfied: async-timeout<6.0,>=4.0 in c:\\users\\hp\\anaconda3\\envs\\groqbot2\\lib\\site-packages (from aiohttp<4.0.0,>=3.8.3->langchain-community) (4.0.3)\n",
      "Requirement already satisfied: attrs>=17.3.0 in c:\\users\\hp\\anaconda3\\envs\\groqbot2\\lib\\site-packages (from aiohttp<4.0.0,>=3.8.3->langchain-community) (25.4.0)\n",
      "Requirement already satisfied: frozenlist>=1.1.1 in c:\\users\\hp\\anaconda3\\envs\\groqbot2\\lib\\site-packages (from aiohttp<4.0.0,>=3.8.3->langchain-community) (1.8.0)\n",
      "Requirement already satisfied: multidict<7.0,>=4.5 in c:\\users\\hp\\anaconda3\\envs\\groqbot2\\lib\\site-packages (from aiohttp<4.0.0,>=3.8.3->langchain-community) (6.7.0)\n",
      "Requirement already satisfied: propcache>=0.2.0 in c:\\users\\hp\\anaconda3\\envs\\groqbot2\\lib\\site-packages (from aiohttp<4.0.0,>=3.8.3->langchain-community) (0.4.1)\n",
      "Requirement already satisfied: yarl<2.0,>=1.17.0 in c:\\users\\hp\\anaconda3\\envs\\groqbot2\\lib\\site-packages (from aiohttp<4.0.0,>=3.8.3->langchain-community) (1.22.0)\n",
      "Requirement already satisfied: marshmallow<4.0.0,>=3.18.0 in c:\\users\\hp\\anaconda3\\envs\\groqbot2\\lib\\site-packages (from dataclasses-json<0.7.0,>=0.6.7->langchain-community) (3.26.1)\n",
      "Requirement already satisfied: typing-inspect<1,>=0.4.0 in c:\\users\\hp\\anaconda3\\envs\\groqbot2\\lib\\site-packages (from dataclasses-json<0.7.0,>=0.6.7->langchain-community) (0.9.0)\n",
      "Requirement already satisfied: langchain-text-splitters<2.0.0,>=1.0.0 in c:\\users\\hp\\anaconda3\\envs\\groqbot2\\lib\\site-packages (from langchain-classic<2.0.0,>=1.0.0->langchain-community) (1.0.0)\n",
      "Requirement already satisfied: python-dotenv>=0.21.0 in c:\\users\\hp\\anaconda3\\envs\\groqbot2\\lib\\site-packages (from pydantic-settings<3.0.0,>=2.10.1->langchain-community) (1.2.1)\n",
      "Requirement already satisfied: charset_normalizer<4,>=2 in c:\\users\\hp\\anaconda3\\envs\\groqbot2\\lib\\site-packages (from requests>=2.0.0->langsmith<1.0.0,>=0.3.45->langchain-core<2.0.0,>=1.0.0->langchain-groq) (3.4.4)\n",
      "Requirement already satisfied: urllib3<3,>=1.21.1 in c:\\users\\hp\\anaconda3\\envs\\groqbot2\\lib\\site-packages (from requests>=2.0.0->langsmith<1.0.0,>=0.3.45->langchain-core<2.0.0,>=1.0.0->langchain-groq) (2.3.0)\n",
      "Requirement already satisfied: greenlet>=1 in c:\\users\\hp\\anaconda3\\envs\\groqbot2\\lib\\site-packages (from SQLAlchemy<3.0.0,>=1.4.0->langchain-community) (3.2.4)\n",
      "Requirement already satisfied: mypy-extensions>=0.3.0 in c:\\users\\hp\\anaconda3\\envs\\groqbot2\\lib\\site-packages (from typing-inspect<1,>=0.4.0->dataclasses-json<0.7.0,>=0.6.7->langchain-community) (1.1.0)\n"
     ]
    }
   ],
   "source": [
    "!pip install langchain-groq langchain-community faiss-cpu "
   ]
  },
  {
   "cell_type": "code",
   "execution_count": 3,
   "id": "e450cc76",
   "metadata": {},
   "outputs": [
    {
     "name": "stdout",
     "output_type": "stream",
     "text": [
      "Requirement already satisfied: langchain-groq in c:\\users\\hp\\anaconda3\\envs\\groqbot2\\lib\\site-packages (1.0.0)\n",
      "Requirement already satisfied: groq<1.0.0,>=0.30.0 in c:\\users\\hp\\anaconda3\\envs\\groqbot2\\lib\\site-packages (from langchain-groq) (0.33.0)\n",
      "Requirement already satisfied: langchain-core<2.0.0,>=1.0.0 in c:\\users\\hp\\anaconda3\\envs\\groqbot2\\lib\\site-packages (from langchain-groq) (1.0.2)\n",
      "Requirement already satisfied: anyio<5,>=3.5.0 in c:\\users\\hp\\anaconda3\\envs\\groqbot2\\lib\\site-packages (from groq<1.0.0,>=0.30.0->langchain-groq) (4.11.0)\n",
      "Requirement already satisfied: distro<2,>=1.7.0 in c:\\users\\hp\\anaconda3\\envs\\groqbot2\\lib\\site-packages (from groq<1.0.0,>=0.30.0->langchain-groq) (1.9.0)\n",
      "Requirement already satisfied: httpx<1,>=0.23.0 in c:\\users\\hp\\anaconda3\\envs\\groqbot2\\lib\\site-packages (from groq<1.0.0,>=0.30.0->langchain-groq) (0.28.1)\n",
      "Requirement already satisfied: pydantic<3,>=1.9.0 in c:\\users\\hp\\anaconda3\\envs\\groqbot2\\lib\\site-packages (from groq<1.0.0,>=0.30.0->langchain-groq) (2.12.3)\n",
      "Requirement already satisfied: sniffio in c:\\users\\hp\\anaconda3\\envs\\groqbot2\\lib\\site-packages (from groq<1.0.0,>=0.30.0->langchain-groq) (1.3.1)\n",
      "Requirement already satisfied: typing-extensions<5,>=4.10 in c:\\users\\hp\\anaconda3\\envs\\groqbot2\\lib\\site-packages (from groq<1.0.0,>=0.30.0->langchain-groq) (4.15.0)\n",
      "Requirement already satisfied: exceptiongroup>=1.0.2 in c:\\users\\hp\\anaconda3\\envs\\groqbot2\\lib\\site-packages (from anyio<5,>=3.5.0->groq<1.0.0,>=0.30.0->langchain-groq) (1.3.0)\n",
      "Requirement already satisfied: idna>=2.8 in c:\\users\\hp\\anaconda3\\envs\\groqbot2\\lib\\site-packages (from anyio<5,>=3.5.0->groq<1.0.0,>=0.30.0->langchain-groq) (3.11)\n",
      "Requirement already satisfied: certifi in c:\\users\\hp\\anaconda3\\envs\\groqbot2\\lib\\site-packages (from httpx<1,>=0.23.0->groq<1.0.0,>=0.30.0->langchain-groq) (2025.10.5)\n",
      "Requirement already satisfied: httpcore==1.* in c:\\users\\hp\\anaconda3\\envs\\groqbot2\\lib\\site-packages (from httpx<1,>=0.23.0->groq<1.0.0,>=0.30.0->langchain-groq) (1.0.9)\n",
      "Requirement already satisfied: h11>=0.16 in c:\\users\\hp\\anaconda3\\envs\\groqbot2\\lib\\site-packages (from httpcore==1.*->httpx<1,>=0.23.0->groq<1.0.0,>=0.30.0->langchain-groq) (0.16.0)\n",
      "Requirement already satisfied: jsonpatch<2.0.0,>=1.33.0 in c:\\users\\hp\\anaconda3\\envs\\groqbot2\\lib\\site-packages (from langchain-core<2.0.0,>=1.0.0->langchain-groq) (1.33)\n",
      "Requirement already satisfied: langsmith<1.0.0,>=0.3.45 in c:\\users\\hp\\anaconda3\\envs\\groqbot2\\lib\\site-packages (from langchain-core<2.0.0,>=1.0.0->langchain-groq) (0.4.38)\n",
      "Requirement already satisfied: packaging<26.0.0,>=23.2.0 in c:\\users\\hp\\anaconda3\\envs\\groqbot2\\lib\\site-packages (from langchain-core<2.0.0,>=1.0.0->langchain-groq) (25.0)\n",
      "Requirement already satisfied: pyyaml<7.0.0,>=5.3.0 in c:\\users\\hp\\anaconda3\\envs\\groqbot2\\lib\\site-packages (from langchain-core<2.0.0,>=1.0.0->langchain-groq) (6.0.3)\n",
      "Requirement already satisfied: tenacity!=8.4.0,<10.0.0,>=8.1.0 in c:\\users\\hp\\anaconda3\\envs\\groqbot2\\lib\\site-packages (from langchain-core<2.0.0,>=1.0.0->langchain-groq) (9.1.2)\n",
      "Requirement already satisfied: jsonpointer>=1.9 in c:\\users\\hp\\anaconda3\\envs\\groqbot2\\lib\\site-packages (from jsonpatch<2.0.0,>=1.33.0->langchain-core<2.0.0,>=1.0.0->langchain-groq) (3.0.0)\n",
      "Requirement already satisfied: orjson>=3.9.14 in c:\\users\\hp\\anaconda3\\envs\\groqbot2\\lib\\site-packages (from langsmith<1.0.0,>=0.3.45->langchain-core<2.0.0,>=1.0.0->langchain-groq) (3.11.4)\n",
      "Requirement already satisfied: requests-toolbelt>=1.0.0 in c:\\users\\hp\\anaconda3\\envs\\groqbot2\\lib\\site-packages (from langsmith<1.0.0,>=0.3.45->langchain-core<2.0.0,>=1.0.0->langchain-groq) (1.0.0)\n",
      "Requirement already satisfied: requests>=2.0.0 in c:\\users\\hp\\anaconda3\\envs\\groqbot2\\lib\\site-packages (from langsmith<1.0.0,>=0.3.45->langchain-core<2.0.0,>=1.0.0->langchain-groq) (2.32.5)\n",
      "Requirement already satisfied: zstandard>=0.23.0 in c:\\users\\hp\\anaconda3\\envs\\groqbot2\\lib\\site-packages (from langsmith<1.0.0,>=0.3.45->langchain-core<2.0.0,>=1.0.0->langchain-groq) (0.25.0)\n",
      "Requirement already satisfied: annotated-types>=0.6.0 in c:\\users\\hp\\anaconda3\\envs\\groqbot2\\lib\\site-packages (from pydantic<3,>=1.9.0->groq<1.0.0,>=0.30.0->langchain-groq) (0.7.0)\n",
      "Requirement already satisfied: pydantic-core==2.41.4 in c:\\users\\hp\\anaconda3\\envs\\groqbot2\\lib\\site-packages (from pydantic<3,>=1.9.0->groq<1.0.0,>=0.30.0->langchain-groq) (2.41.4)\n",
      "Requirement already satisfied: typing-inspection>=0.4.2 in c:\\users\\hp\\anaconda3\\envs\\groqbot2\\lib\\site-packages (from pydantic<3,>=1.9.0->groq<1.0.0,>=0.30.0->langchain-groq) (0.4.2)\n",
      "Requirement already satisfied: charset_normalizer<4,>=2 in c:\\users\\hp\\anaconda3\\envs\\groqbot2\\lib\\site-packages (from requests>=2.0.0->langsmith<1.0.0,>=0.3.45->langchain-core<2.0.0,>=1.0.0->langchain-groq) (3.4.4)\n",
      "Requirement already satisfied: urllib3<3,>=1.21.1 in c:\\users\\hp\\anaconda3\\envs\\groqbot2\\lib\\site-packages (from requests>=2.0.0->langsmith<1.0.0,>=0.3.45->langchain-core<2.0.0,>=1.0.0->langchain-groq) (2.3.0)\n"
     ]
    }
   ],
   "source": [
    "!pip install langchain-groq\n"
   ]
  },
  {
   "cell_type": "code",
   "execution_count": 4,
   "id": "4e3a42d9",
   "metadata": {},
   "outputs": [],
   "source": [
    "from dotenv import load_dotenv\n",
    "load_dotenv()\n",
    "import os\n",
    "\n"
   ]
  },
  {
   "cell_type": "code",
   "execution_count": 36,
   "id": "ad7ba56e",
   "metadata": {},
   "outputs": [],
   "source": [
    "groq_api_key=os.getenv(\"GROQ_API_KEY\")\n",
    "llm = ChatGroq(\n",
    "    api_key=os.getenv(\"GROQ_API_KEY\"),\n",
    "    model=\"llama-3.3-70b-versatile\"  # or \"llama-3.1-8b-instant\" / \"llama-3.2-3b-preview\"\n",
    ")"
   ]
  },
  {
   "cell_type": "code",
   "execution_count": 7,
   "id": "9fadc991",
   "metadata": {},
   "outputs": [
    {
     "name": "stdout",
     "output_type": "stream",
     "text": [
      "LangChain is an open-source framework designed to help developers build applications that utilize large language models (LLMs) more efficiently. It was created to streamline the process of integrating LLMs into various projects, providing a set of tools and libraries that simplify tasks such as prompting, chaining, and embedding models.\n",
      "\n",
      "LangChain aims to address some of the key challenges associated with working with LLMs, such as:\n",
      "\n",
      "1. **Prompt engineering**: Crafting effective prompts that elicit desired responses from the model.\n",
      "2. **Model chaining**: Combining multiple models to achieve more complex tasks or improve overall performance.\n",
      "3. **Embedding models**: Integrating LLMs into larger applications, such as chatbots, virtual assistants, or content generation tools.\n",
      "\n",
      "By providing a standardized framework for working with LLMs, LangChain enables developers to focus on building innovative applications rather than struggling with the underlying complexities of the models themselves.\n",
      "\n",
      "Some of the key features of LangChain include:\n",
      "\n",
      "* **Prompt templates**: Pre-built templates for common use cases, such as text classification or question-answering.\n",
      "* **Model wrappers**: Simplified interfaces for interacting with popular LLMs, such as those from Hugging Face or Meta AI.\n",
      "* **Chaining APIs**: Tools for combining multiple models to achieve more complex tasks or improve overall performance.\n",
      "* **Embedding libraries**: Pre-built libraries for integrating LLMs into popular frameworks, such as React or Django.\n",
      "\n",
      "Overall, LangChain has the potential to accelerate the development of LLM-powered applications, enabling developers to build more sophisticated and effective AI-powered tools.\n"
     ]
    }
   ],
   "source": [
    "response = llm.invoke(\"What is LangChain?\")\n",
    "print(response.content)"
   ]
  },
  {
   "cell_type": "code",
   "execution_count": 8,
   "id": "aea0d1f4",
   "metadata": {},
   "outputs": [],
   "source": [
    "file_path = \"DATA\"\n",
    "db_path=\"vectorstore/db_faiss\""
   ]
  },
  {
   "cell_type": "code",
   "execution_count": 9,
   "id": "1c423abd",
   "metadata": {},
   "outputs": [],
   "source": [
    "#create vector database\n",
    "def create_vector_db():\n",
    "    loader = DirectoryLoader(file_path, glob=\"**/*.pdf\", loader_cls=PyPDFLoader)\n",
    "    documents = loader.load()\n",
    "    print(f\"Number of documents loaded: {len(documents)}\")\n",
    "\n",
    "    text_splitter = RecursiveCharacterTextSplitter(chunk_size=500, chunk_overlap=20)\n",
    "    texts = text_splitter.split_documents(documents)\n",
    "    print(f\"Number of documents: {len(texts)}\")\n",
    "\n",
    "    embeddings = HuggingFaceEmbeddings(model_name=\"sentence-transformers/all-MiniLM-L6-v2\")\n",
    "    vector_store = FAISS.from_documents(texts, embeddings)\n",
    "    # store the vector store to disk\n",
    "    vector_store.save_local(db_path)# save vector store to disk\n",
    "    \n",
    "    print(\"Vector store created successfully.\")\n",
    "    return vector_store"
   ]
  },
  {
   "cell_type": "code",
   "execution_count": 10,
   "id": "1e2b538a",
   "metadata": {},
   "outputs": [
    {
     "name": "stdout",
     "output_type": "stream",
     "text": [
      "Number of documents loaded: 759\n",
      "Number of documents: 6973\n"
     ]
    },
    {
     "name": "stderr",
     "output_type": "stream",
     "text": [
      "C:\\Users\\HP\\AppData\\Local\\Temp\\ipykernel_23304\\1972567339.py:11: LangChainDeprecationWarning: The class `HuggingFaceEmbeddings` was deprecated in LangChain 0.2.2 and will be removed in 1.0. An updated version of the class exists in the `langchain-huggingface package and should be used instead. To use it run `pip install -U `langchain-huggingface` and import as `from `langchain_huggingface import HuggingFaceEmbeddings``.\n",
      "  embeddings = HuggingFaceEmbeddings(model_name=\"sentence-transformers/all-MiniLM-L6-v2\")\n"
     ]
    },
    {
     "name": "stdout",
     "output_type": "stream",
     "text": [
      "Vector store created successfully.\n"
     ]
    },
    {
     "data": {
      "text/plain": [
       "<langchain_community.vectorstores.faiss.FAISS at 0x237bdecd2a0>"
      ]
     },
     "execution_count": 10,
     "metadata": {},
     "output_type": "execute_result"
    }
   ],
   "source": [
    "create_vector_db()"
   ]
  },
  {
   "cell_type": "code",
   "execution_count": 11,
   "id": "467f0e15",
   "metadata": {},
   "outputs": [
    {
     "name": "stdout",
     "output_type": "stream",
     "text": [
      "Number of text chunks: 6973\n"
     ]
    }
   ],
   "source": [
    "loader = DirectoryLoader(file_path, glob=\"**/*.pdf\", loader_cls=PyPDFLoader)\n",
    "documents = loader.load()\n",
    "\n",
    "text_splitter = RecursiveCharacterTextSplitter(chunk_size=500, chunk_overlap=20)\n",
    "texts = text_splitter.split_documents(documents)\n",
    "print(f\"Number of text chunks: {len(texts)}\")"
   ]
  },
  {
   "cell_type": "code",
   "execution_count": 12,
   "id": "909a454d",
   "metadata": {},
   "outputs": [],
   "source": [
    "def load_vector_db():\n",
    "    embeddings = HuggingFaceEmbeddings(model_name=\"sentence-transformers/all-MiniLM-L6-v2\")\n",
    "    vector_store = FAISS.load_local(db_path, embeddings, allow_dangerous_deserialization=True)\n",
    "    print(\"Vector DB loaded successfully!\")\n",
    "    return vector_store"
   ]
  },
  {
   "cell_type": "code",
   "execution_count": 13,
   "id": "cef8f7a1",
   "metadata": {},
   "outputs": [],
   "source": [
    "#  Initialize Groq Client (No LangChain)\n",
    "from groq import Groq\n",
    "def initialize_groq_client():\n",
    "    groq_api_key = os.getenv(\"GROQ_API_KEY\")\n",
    "    if not groq_api_key:\n",
    "        raise ValueError(\"Missing GROQ_API_KEY in .env file\")\n",
    "\n",
    "    client = Groq(api_key=groq_api_key)\n",
    "    print(\"Groq client initialized successfully!\")\n",
    "    return client\n"
   ]
  },
  {
   "cell_type": "code",
   "execution_count": 40,
   "id": "fcce08b2",
   "metadata": {},
   "outputs": [],
   "source": [
    "def initialize_llm():\n",
    "    groq_api_key = os.getenv(\"GROQ_API_KEY\")\n",
    "    if not groq_api_key:\n",
    "        raise ValueError(\"Missing GROQ_API_KEY in .env file\")\n",
    "\n",
    "    llm = ChatGroq(\n",
    "        api_key=os.getenv(\"GROQ_API_KEY\"),\n",
    "        model=\"llama-3.3-70b-versatile\",\n",
    "        temperature=0.2,\n",
    "    )\n",
    "    return llm"
   ]
  },
  {
   "cell_type": "code",
   "execution_count": null,
   "id": "26059885",
   "metadata": {},
   "outputs": [],
   "source": [
    "def rag_chain()"
   ]
  },
  {
   "cell_type": "code",
   "execution_count": 28,
   "id": "33593eda",
   "metadata": {},
   "outputs": [],
   "source": [
    "#Step 3: Build RAG pipeline using Runnables (modern LangChain)\n",
    "\n",
    "def create_rag_pipeline():\n",
    "    db = load_vector_db()\n",
    "    retriever = db.as_retriever(search_kwargs={\"k\": 4})\n",
    "    llm = initialize_llm()\n",
    "\n",
    "    prompt = ChatPromptTemplate.from_template(\"\"\"\n",
    "    You are a knowledgeable and friendly medical assistant.\n",
    "    Use the provided context to answer the question accurately and clearly.\n",
    "    Your answers should be concise and factual.\n",
    "    Do not make up any information.\n",
    "    \n",
    "    Context:\n",
    "    {context}\n",
    "\n",
    "    Question:\n",
    "    {question}\n",
    "\n",
    "    Helpful and concise answer:\n",
    "    \"\"\")\n",
    "\n",
    "    # ⚙️ Build Runnable pipeline: Retriever → Prompt → LLM\n",
    "    rag_pipeline = (\n",
    "        RunnableMap({\n",
    "            \"context\": retriever,\n",
    "            \"question\": RunnablePassthrough()\n",
    "        })\n",
    "        | prompt\n",
    "        | llm\n",
    "    )\n",
    "\n",
    "    return rag_pipeline\n"
   ]
  },
  {
   "cell_type": "code",
   "execution_count": 30,
   "id": "0b15f965",
   "metadata": {},
   "outputs": [
    {
     "name": "stdout",
     "output_type": "stream",
     "text": [
      "Vector DB loaded successfully!\n",
      "\n",
      "Chatbot Response:\n",
      "\n",
      "I'm here to provide you with helpful information. According to the context, death can occur due to various reasons such as severe illness, drug overdose, or failure of major organs. However, the decision to die or let a loved one die can be complex and is often determined by medical professionals and the individual's living will. If you're experiencing any distress or have concerns about your health, I encourage you to reach out to a medical professional for guidance and support.\n"
     ]
    }
   ],
   "source": [
    " #Step 4: Run Query\n",
    "if __name__ == \"__main__\":\n",
    "    # Run this once to create the vector DB\n",
    "    # create_vector_db()\n",
    "\n",
    "    rag_pipeline = create_rag_pipeline()\n",
    "\n",
    "    user_query = \"CAN I DIE?\"\n",
    "    response = rag_pipeline.invoke(user_query)\n",
    "\n",
    "    print(\"\\nChatbot Response:\\n\")\n",
    "    print(response.content)"
   ]
  },
  {
   "cell_type": "code",
   "execution_count": 38,
   "id": "0cc79c46",
   "metadata": {},
   "outputs": [],
   "source": [
    "# Enhance RAG pipeline with conversation memory and correct retriever input\n",
    "\n",
    "chat_history = []  # global conversation memory\n",
    "\n",
    "def create_rag_pipeline():\n",
    "    \"\"\"Create RAG pipeline with chat memory and proper retriever input.\"\"\"\n",
    "    db = load_vector_db()\n",
    "    retriever = db.as_retriever(search_kwargs={\"k\": 4})\n",
    "    llm = initialize_llm()\n",
    "\n",
    "    prompt = ChatPromptTemplate.from_template(\"\"\"\n",
    "You are a knowledgeable and friendly **medical assistant**.\n",
    "Answer the question **accurately and concisely**, using only the provided context.\n",
    "If the context does not contain the answer, say: \"I'm not sure based on the available information.\"\n",
    "\n",
    "Previous conversation (for context):\n",
    "{chat_memory}\n",
    "\n",
    "Context:\n",
    "{context}\n",
    "\n",
    "Question:\n",
    "{question}\n",
    "\n",
    "Answer:\n",
    "\"\"\")\n",
    "\n",
    "    def add_memory(inputs):\n",
    "        \"\"\"Attach last few exchanges from chat history.\"\"\"\n",
    "        last_turns = chat_history[-3:]  # keep only last 3 exchanges\n",
    "        formatted = \"\\n\".join([f\"User: {u}\\nBot: {b}\" for u, b in last_turns])\n",
    "        inputs[\"chat_memory\"] = formatted\n",
    "        return inputs\n",
    "\n",
    "    def retrieve_context(inputs):\n",
    "        \"\"\"Retrieve context using retriever with correct string input.\"\"\"\n",
    "        question = inputs[\"question\"]\n",
    "        docs = retriever.invoke(question)\n",
    "        context = \"\\n\\n\".join([doc.page_content for doc in docs])\n",
    "        inputs[\"context\"] = context\n",
    "        return inputs\n",
    "\n",
    "    #  Runnable pipeline flow: Add memory → Retrieve context → Prompt → LLM\n",
    "    rag_pipeline = (\n",
    "        RunnablePassthrough()\n",
    "        | add_memory\n",
    "        | retrieve_context\n",
    "        | prompt\n",
    "        | llm\n",
    "    ) # Runnable passthrough acts as a placeholder it pass the input to output without modification\n",
    "\n",
    "    #print(\"Fixed RAG pipeline with memory and proper retriever flow.\")\n",
    "    return rag_pipeline\n",
    "\n",
    "\n",
    "def chat_with_bot(question, rag_pipeline):\n",
    "    \"\"\"Ask a question, update memory, and return bot’s response.\"\"\"\n",
    "    response = rag_pipeline.invoke({\"question\": question})\n",
    "    answer = response.content if hasattr(response, \"content\") else response\n",
    "    chat_history.append((question, answer))\n",
    "    return answer"
   ]
  },
  {
   "cell_type": "code",
   "execution_count": 39,
   "id": "fe4265d4",
   "metadata": {},
   "outputs": [
    {
     "name": "stdout",
     "output_type": "stream",
     "text": [
      "Vector DB loaded successfully!\n",
      "The symptoms of pneumonia include fever, difficulty breathing, bluish lips or fingernails, a cough that brings up greenish-yellow or grayish sputum, and other symptoms such as skin rash, swollen glands, or whitish spots on the tonsils or throat.\n",
      "It appears there are multiple diseases being discussed. Based on the context, prevention methods include:\n",
      "\n",
      "1. Good hygiene and nutrition, avoiding crowds or people with active infections.\n",
      "2. Treating all infected cases to eliminate the source of infection, washing hands, keeping fingernails short and clean, avoiding scratching the anal area, and taking early morning showers.\n",
      "3. Preventing onset of underlying disorders, prenatal testing, genetic counseling, refraining from injury-causing activities, and good hygiene, especially skin and mouth care.\n",
      "4. Preventive antibiotics and avoiding crowds or people with infections. \n",
      "\n",
      "Note: The specific disease is not mentioned, so these are general prevention methods mentioned in the context.\n"
     ]
    }
   ],
   "source": [
    "rag_pipeline = create_rag_pipeline()\n",
    "\n",
    "print(chat_with_bot(\"What are the symptoms of pneumonia?\", rag_pipeline))\n",
    "print(chat_with_bot(\"How can it be prevented?\", rag_pipeline))\n"
   ]
  },
  {
   "cell_type": "code",
   "execution_count": null,
   "id": "36f97a8c",
   "metadata": {},
   "outputs": [],
   "source": []
  }
 ],
 "metadata": {
  "kernelspec": {
   "display_name": "groqbot2",
   "language": "python",
   "name": "python3"
  },
  "language_info": {
   "codemirror_mode": {
    "name": "ipython",
    "version": 3
   },
   "file_extension": ".py",
   "mimetype": "text/x-python",
   "name": "python",
   "nbconvert_exporter": "python",
   "pygments_lexer": "ipython3",
   "version": "3.10.19"
  }
 },
 "nbformat": 4,
 "nbformat_minor": 5
}
